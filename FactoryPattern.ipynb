{
 "cells": [
  {
   "cell_type": "code",
   "execution_count": 1,
   "metadata": {
    "dotnet_interactive": {
     "language": "csharp"
    },
    "polyglot_notebook": {
     "kernelName": "csharp"
    },
    "vscode": {
     "languageId": "polyglot-notebook"
    }
   },
   "outputs": [
    {
     "name": "stdout",
     "output_type": "stream",
     "text": [
      "Device type is Tablet\n",
      "\n",
      "Device type is Phone\n"
     ]
    }
   ],
   "source": [
    "using System;\n",
    "\n",
    "class DeviceFactory\n",
    "{\n",
    "    public IDevice Create(string type)\n",
    "    {\n",
    "        IDevice device = null;\n",
    "        switch(type)\n",
    "        {\n",
    "            case \"Tablet\":\n",
    "                device = new Tablet();\n",
    "                break;\n",
    "            case \"Phone\":\n",
    "                device = new Phone();\n",
    "                break;\n",
    "        }\n",
    "        return device;\n",
    "    }\n",
    "}\n",
    "\n",
    "public interface IDevice\n",
    "{\n",
    "    string GetDeviceType();\n",
    "}\n",
    "\n",
    "class Phone : IDevice\n",
    "{\n",
    "    public string GetDeviceType()\n",
    "    {\n",
    "        return \"Phone\";\n",
    "    }\n",
    "}\n",
    "\n",
    "class Tablet : IDevice\n",
    "{\n",
    "    public string GetDeviceType()\n",
    "    {\n",
    "        return \"Tablet\";\n",
    "    }\n",
    "}\n",
    "\n",
    "var factory = new DeviceFactory();\n",
    "ClientCode(factory.Create(\"Tablet\"));\n",
    "\n",
    "Console.WriteLine(\"\");\n",
    "\n",
    "ClientCode(factory.Create(\"Phone\"));\n",
    "\n",
    "void ClientCode(IDevice device)\n",
    "{\n",
    "    Console.WriteLine(\"Device type is \" + device.GetDeviceType());\n",
    "}"
   ]
  }
 ],
 "metadata": {
  "language_info": {
   "name": "python"
  },
  "orig_nbformat": 4
 },
 "nbformat": 4,
 "nbformat_minor": 2
}
