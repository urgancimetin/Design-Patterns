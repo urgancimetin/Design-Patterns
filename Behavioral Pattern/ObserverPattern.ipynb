{
 "cells": [
  {
   "cell_type": "code",
   "execution_count": 11,
   "metadata": {
    "dotnet_interactive": {
     "language": "csharp"
    },
    "polyglot_notebook": {
     "kernelName": "csharp"
    },
    "vscode": {
     "languageId": "polyglot-notebook"
    }
   },
   "outputs": [
    {
     "name": "stdout",
     "output_type": "stream",
     "text": [
      "Subscribed\n",
      "Hello Metin! New movie added to catalog: Pianist\n",
      "Unsubscribed\n"
     ]
    }
   ],
   "source": [
    "// Subject\n",
    "public interface IStreamingCompany\n",
    "{\n",
    "    void Attach(ISubscriber subscriber);\n",
    "    void Detach(ISubscriber subscriber);\n",
    "    void Notify(string movie);\n",
    "}\n",
    "\n",
    "// ConcreteSubject\n",
    "public class StreamingCompany : IStreamingCompany\n",
    "{\n",
    "    private List<ISubscriber> _subscribers = new List<ISubscriber>();\n",
    "    private List<string> _catalog = new List<string>();\n",
    "    public void Attach(ISubscriber subscriber)\n",
    "    {\n",
    "        _subscribers.Add(subscriber);\n",
    "        Console.WriteLine($\"Subscribed\");\n",
    "\n",
    "    }\n",
    "    public void Detach(ISubscriber subscriber)\n",
    "    {\n",
    "        _subscribers.Remove(subscriber);\n",
    "        Console.WriteLine($\"Unsubscribed\");\n",
    "    }\n",
    "    public void Notify(string movie)\n",
    "    {\n",
    "        foreach (var subscriber in _subscribers)\n",
    "        {\n",
    "            subscriber.Update(movie);\n",
    "        }\n",
    "    }\n",
    "    public void NewMovie(string movie)\n",
    "    {\n",
    "        _catalog.Add(movie);\n",
    "        Notify(movie);\n",
    "    }\n",
    "}\n",
    "// Observer\n",
    "public interface ISubscriber\n",
    "{\n",
    "    void Update(string movie);\n",
    "}\n",
    "// ConcreteObserver\n",
    "public class Subscriber : ISubscriber\n",
    "{\n",
    "    private string username;\n",
    "    public Subscriber(string name){\n",
    "        username = name;\n",
    "    }\n",
    "    \n",
    "    public void Update(string movie)\n",
    "    {\n",
    "        Console.WriteLine($\"Hello {username}! New movie added to catalog: {movie}\");\n",
    "    }\n",
    "}\n",
    "\n",
    "StreamingCompany Netflix = new StreamingCompany();\n",
    "ISubscriber user1 = new Subscriber(\"Metin\");\n",
    "Netflix.Attach(user1);\n",
    "Netflix.NewMovie(\"Pianist\");\n",
    "Netflix.Detach(user1);"
   ]
  }
 ],
 "metadata": {
  "language_info": {
   "name": "python"
  }
 },
 "nbformat": 4,
 "nbformat_minor": 2
}
