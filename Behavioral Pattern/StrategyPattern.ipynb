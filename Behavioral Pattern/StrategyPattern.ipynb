{
 "cells": [
  {
   "cell_type": "code",
   "execution_count": 2,
   "metadata": {
    "dotnet_interactive": {
     "language": "csharp"
    },
    "polyglot_notebook": {
     "kernelName": "csharp"
    },
    "vscode": {
     "languageId": "polyglot-notebook"
    }
   },
   "outputs": [
    {
     "name": "stdout",
     "output_type": "stream",
     "text": [
      "Team plays defensive football\n",
      "Team plays balanced football\n",
      "Team plays attack football\n"
     ]
    }
   ],
   "source": [
    "using System;\n",
    "\n",
    "\n",
    "public interface Strategy\n",
    "{\n",
    "    void SetStrategy();\n",
    "}\n",
    "\n",
    "public class DefensiveStrategy : Strategy\n",
    "{\n",
    "    public void SetStrategy()\n",
    "    {\n",
    "        Console.WriteLine(\"Team plays defensive football\");\n",
    "    }\n",
    "}\n",
    "\n",
    "public class BalancedStrategy : Strategy\n",
    "{\n",
    "    public void SetStrategy()\n",
    "    {\n",
    "        Console.WriteLine(\"Team plays balanced football\");\n",
    "    }\n",
    "}\n",
    "\n",
    "public class AttackStrategy : Strategy\n",
    "{\n",
    "    public void SetStrategy()\n",
    "    {\n",
    "        Console.WriteLine(\"Team plays attack football\");\n",
    "    }\n",
    "}\n",
    "\n",
    "public class FootballTeam\n",
    "{\n",
    "    Strategy strategy;\n",
    "    // Constructor\n",
    "    public FootballTeam(Strategy strategy)\n",
    "    {\n",
    "        this.strategy = strategy;\n",
    "    }\n",
    "    public void PlayTheGame()\n",
    "    {\n",
    "        strategy.SetStrategy();\n",
    "    }\n",
    "}\n",
    "\n",
    "FootballTeam team1 = new FootballTeam(new DefensiveStrategy());\n",
    "team1.PlayTheGame();\n",
    "FootballTeam team2 = new FootballTeam(new BalancedStrategy());\n",
    "team2.PlayTheGame();\n",
    "FootballTeam team3 = new FootballTeam(new AttackStrategy());\n",
    "team3.PlayTheGame();\n"
   ]
  }
 ],
 "metadata": {
  "language_info": {
   "name": "python"
  }
 },
 "nbformat": 4,
 "nbformat_minor": 2
}
