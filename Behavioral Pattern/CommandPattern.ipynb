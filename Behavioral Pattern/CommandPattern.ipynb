{
 "cells": [
  {
   "cell_type": "code",
   "execution_count": 5,
   "metadata": {
    "dotnet_interactive": {
     "language": "csharp"
    },
    "polyglot_notebook": {
     "kernelName": "csharp"
    },
    "vscode": {
     "languageId": "polyglot-notebook"
    }
   },
   "outputs": [
    {
     "name": "stdout",
     "output_type": "stream",
     "text": [
      "Tv is ON\n",
      "Tv is OFF\n"
     ]
    }
   ],
   "source": [
    "// Command\n",
    "public interface ICommand\n",
    "{\n",
    "    void Execute();\n",
    "}\n",
    "\n",
    "// Receiver\n",
    "public class Tv\n",
    "{\n",
    "    public void On()\n",
    "    {\n",
    "        Console.WriteLine(\"Tv is ON\");\n",
    "    }\n",
    "    public void Off()\n",
    "    {\n",
    "        Console.WriteLine(\"Tv is OFF\");\n",
    "    }\n",
    "}\n",
    "// ConcreteCommand 1\n",
    "public class TvOnCommand : ICommand\n",
    "{\n",
    "    private Tv _tv;\n",
    "    public TvOnCommand(Tv tv)\n",
    "    {\n",
    "        _tv = tv;\n",
    "    }\n",
    "    public void Execute()\n",
    "    {\n",
    "        _tv.On();\n",
    "    }\n",
    "}\n",
    "//ConcreteCommand 2\n",
    "public class TvOffCommand : ICommand{\n",
    "    private Tv _tv;\n",
    "    public TvOffCommand(Tv tv)\n",
    "    {\n",
    "        _tv = tv;\n",
    "    }\n",
    "    public void Execute()\n",
    "    {\n",
    "        _tv.Off();\n",
    "    }\n",
    "}\n",
    "\n",
    "// Invoker\n",
    "public class RemoteControl\n",
    "{\n",
    "    private ICommand _command;\n",
    "    public void SetCommand(ICommand command)\n",
    "    {\n",
    "        _command = command;\n",
    "    }\n",
    "    public void PressButton()\n",
    "    {\n",
    "        _command.Execute();\n",
    "    }\n",
    "}\n",
    "// Client\n",
    "var tv = new Tv();\n",
    "var tvOn = new TvOnCommand(tv);\n",
    "var remote = new RemoteControl();\n",
    "remote.SetCommand(tvOn);\n",
    "remote.PressButton();  // Output: Light is ON\n",
    "var tvOff = new TvOffCommand(tv);\n",
    "remote.SetCommand(tvOff);\n",
    "remote.PressButton();  // Output: Light is OFF"
   ]
  }
 ],
 "metadata": {
  "language_info": {
   "name": "python"
  }
 },
 "nbformat": 4,
 "nbformat_minor": 2
}
