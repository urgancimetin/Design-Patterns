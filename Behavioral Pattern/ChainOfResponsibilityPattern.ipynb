{
 "cells": [
  {
   "cell_type": "code",
   "execution_count": 2,
   "metadata": {
    "dotnet_interactive": {
     "language": "csharp"
    },
    "polyglot_notebook": {
     "kernelName": "csharp"
    },
    "vscode": {
     "languageId": "polyglot-notebook"
    }
   },
   "outputs": [
    {
     "name": "stdout",
     "output_type": "stream",
     "text": [
      "Item 500 found in Warehouse1\n",
      "Item 800 found in Warehouse1\n",
      "Item 1050 found in Warehouse2\n",
      "Item 1500 found in Warehouse2\n",
      "Item 1600 found in Warehouse2\n",
      "Item 1800 found in Warehouse3\n",
      "------------------------------\n",
      "Item 500 found in Warehouse1\n",
      "Item 800 found in Warehouse1\n",
      "Item 1050 found in Warehouse2\n",
      "Item 1500 found in Warehouse3\n",
      "Item 1600 found in Warehouse3\n",
      "Item 1800 found in Warehouse3\n"
     ]
    }
   ],
   "source": [
    "using System;\n",
    "\n",
    "public abstract class Warehouse\n",
    "{\n",
    "    protected Warehouse nextHandler;\n",
    "\n",
    "    public void SetNextHandler(Warehouse nextHandler)\n",
    "    {\n",
    "        this.nextHandler = nextHandler;\n",
    "    }\n",
    "\n",
    "    public abstract void FindItem(int orderId);\n",
    "}\n",
    "\n",
    "public class Warehouse1 : Warehouse\n",
    "{\n",
    "    public override void FindItem(int orderId)\n",
    "    {\n",
    "        if (orderId > 0 && orderId <= 1000)\n",
    "        {\n",
    "            Console.WriteLine(\"Item {0} found in {1}\", orderId, this.GetType().Name);\n",
    "        }\n",
    "        else if (nextHandler != null)\n",
    "        {\n",
    "            nextHandler.FindItem(orderId);\n",
    "        }\n",
    "    }\n",
    "}\n",
    "\n",
    "public class Warehouse2 : Warehouse\n",
    "{\n",
    "    public override void FindItem(int orderId)\n",
    "    {\n",
    "        if (orderId >= 800 && orderId <= 1600)\n",
    "        {\n",
    "            Console.WriteLine(\"Item {0} found in {1}\", orderId, this.GetType().Name);\n",
    "        }\n",
    "        else if (nextHandler != null)\n",
    "        {\n",
    "            nextHandler.FindItem(orderId);\n",
    "        }\n",
    "    }\n",
    "}\n",
    "\n",
    "public class Warehouse3 : Warehouse\n",
    "{\n",
    "    public override void FindItem(int orderId)\n",
    "    {\n",
    "        if (orderId >= 1500 && orderId <= 2000)\n",
    "        {\n",
    "            Console.WriteLine(\"Item {0} found in {1}\", orderId, this.GetType().Name);\n",
    "        }\n",
    "        else if (nextHandler != null)\n",
    "        {\n",
    "            nextHandler.FindItem(orderId);\n",
    "        }\n",
    "    }\n",
    "}\n",
    "\n",
    "Warehouse h1 = new Warehouse1();\n",
    "Warehouse h2 = new Warehouse2();\n",
    "Warehouse h3 = new Warehouse3();\n",
    "h1.SetNextHandler(h2);\n",
    "h2.SetNextHandler(h3);\n",
    "\n",
    "int[] orders = {500, 800, 1050, 1500, 1600, 1800 };\n",
    "\n",
    "foreach (int order in orders)\n",
    "{\n",
    "    h1.FindItem(order);\n",
    "}\n",
    "\n",
    "Console.WriteLine(\"------------------------------\");\n",
    "\n",
    "h1.SetNextHandler(h3);\n",
    "h3.SetNextHandler(h2);\n",
    "\n",
    "foreach (int order in orders)\n",
    "{\n",
    "    h1.FindItem(order);\n",
    "}"
   ]
  }
 ],
 "metadata": {
  "language_info": {
   "name": "python"
  }
 },
 "nbformat": 4,
 "nbformat_minor": 2
}
