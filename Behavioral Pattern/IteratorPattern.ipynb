{
 "cells": [
  {
   "cell_type": "code",
   "execution_count": 5,
   "metadata": {
    "dotnet_interactive": {
     "language": "csharp"
    },
    "polyglot_notebook": {
     "kernelName": "csharp"
    },
    "vscode": {
     "languageId": "polyglot-notebook"
    }
   },
   "outputs": [
    {
     "name": "stdout",
     "output_type": "stream",
     "text": [
      "Day 1: Monday\n",
      "Day 2: Tuesday\n",
      "Day 3: Wednesday\n",
      "Day 4: Thursday\n",
      "Day 5: Friday\n",
      "Day 6: Saturday\n",
      "Day 7: Sunday\n"
     ]
    }
   ],
   "source": [
    "public interface Iterator\n",
    "{\n",
    "    string Current { get; }\n",
    "    bool MoveNext();\n",
    "}\n",
    "\n",
    "public class Days\n",
    "{\n",
    "    protected List<string> days = new List<string> {\n",
    "        \"Monday\",\n",
    "        \"Tuesday\",\n",
    "        \"Wednesday\",\n",
    "        \"Thursday\",\n",
    "        \"Friday\",\n",
    "        \"Saturday\",\n",
    "        \"Sunday\"\n",
    "    };\n",
    "    \n",
    "    public Iterator GetIterator()\n",
    "    {\n",
    "        return new DaysIterator(days);\n",
    "    }\n",
    "}\n",
    "\n",
    "public class DaysIterator : Iterator\n",
    "{\n",
    "    private List<string> _days;\n",
    "    private int _position = -1;\n",
    "\n",
    "    public DaysIterator(List<string> days){\n",
    "        _days = days;\n",
    "    }\n",
    "\n",
    "    public string Current => _days[_position];\n",
    "\n",
    "    public bool MoveNext(){\n",
    "        bool result = false;\n",
    "        if(_position+1 < _days.Count){\n",
    "            _position++;\n",
    "            result = true;\n",
    "        }\n",
    "        return result;\n",
    "    }\n",
    "}\n",
    "\n",
    "Days d = new Days();\n",
    "Iterator iter = d.GetIterator();\n",
    "\n",
    "int i = 1;\n",
    "while(iter.MoveNext())\n",
    "{\n",
    "    Console.WriteLine($\"Day {i}: {iter.Current}\");\n",
    "    i++;\n",
    "}\n"
   ]
  }
 ],
 "metadata": {
  "language_info": {
   "name": "python"
  }
 },
 "nbformat": 4,
 "nbformat_minor": 2
}
