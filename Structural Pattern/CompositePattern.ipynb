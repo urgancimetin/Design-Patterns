{
 "cells": [
  {
   "cell_type": "code",
   "execution_count": 11,
   "metadata": {
    "dotnet_interactive": {
     "language": "csharp"
    },
    "polyglot_notebook": {
     "kernelName": "csharp"
    },
    "vscode": {
     "languageId": "polyglot-notebook"
    }
   },
   "outputs": [
    {
     "name": "stdout",
     "output_type": "stream",
     "text": [
      "New item is added to the Warehouse\n",
      "New item is added to the Warehouse\n",
      "New item is added to the Electronic\n",
      "New item is added to the Electronic\n",
      "New item is added to the Warehouse\n",
      "New item is added to the Warehouse\n",
      "New item is added to the Warehouse\n",
      "An item is removed from the Warehouse\n",
      "\n",
      "\n",
      "-Warehouse\n",
      "---Product: Bed Price: 500 Count: 1\n",
      "---Product: Table Price: 300 Count: 2\n",
      "---Electronic\n",
      "-----Product: Phone Price: 1000 Count: 4\n",
      "-----Product: Tv Price: 3000 Count: 8\n",
      "---Product: Chair Price: 50 Count: 4\n"
     ]
    }
   ],
   "source": [
    "using System;\n",
    "using System.Collections.Generic;\n",
    "\n",
    "public abstract class Component\n",
    "{\n",
    "    protected string name;\n",
    "    protected float price;\n",
    "    protected int count;\n",
    "    // Constructor\n",
    "    public Component(string name)\n",
    "    {\n",
    "        this.name = name;\n",
    "    }\n",
    "    public abstract void Add(Component c);\n",
    "    public abstract void Remove(Component c);\n",
    "    public abstract void Display(int depth);\n",
    "}\n",
    "\n",
    "public class Category : Component\n",
    "{\n",
    "    List<Component> children = new List<Component>();\n",
    "\n",
    "    public Category(string name)\n",
    "        : base(name)\n",
    "    {\n",
    "    }\n",
    "    public override void Add(Component component)\n",
    "    {\n",
    "        children.Add(component);\n",
    "        Console.WriteLine($\"New item is added to the {name}\");\n",
    "    }\n",
    "    public override void Remove(Component component)\n",
    "    {\n",
    "        children.Remove(component);\n",
    "        Console.WriteLine($\"An item is removed from the {name}\");\n",
    "    }\n",
    "    public override void Display(int depth)\n",
    "    {\n",
    "        Console.WriteLine(new String('-', depth) + name);\n",
    "        // Recursively display child nodes\n",
    "        foreach (Component component in children)\n",
    "        {\n",
    "            component.Display(depth + 2);\n",
    "        }\n",
    "    }\n",
    "}\n",
    "\n",
    "public class Product : Component\n",
    "{\n",
    "    // Constructor\n",
    "    public Product(string name, float price, int count)\n",
    "        : base(name)\n",
    "    {\n",
    "        this.price = price;\n",
    "        this.count = count;\n",
    "    }\n",
    "    public override void Add(Component c)\n",
    "    {\n",
    "        Console.WriteLine(\"Cannot add to a product\");\n",
    "    }\n",
    "    public override void Remove(Component c)\n",
    "    {\n",
    "        Console.WriteLine(\"Cannot remove from a product\");\n",
    "    }\n",
    "    public override void Display(int depth)\n",
    "    {\n",
    "        Console.WriteLine(new String('-', depth) + $\"Product: {name} Price: {price} Count: {count}\");\n",
    "    }\n",
    "}\n",
    "\n",
    "\n",
    "Category root = new Category(\"Warehouse\");\n",
    "root.Add(new Product(\"Bed\", 500, 1));\n",
    "root.Add(new Product(\"Table\", 300, 2));\n",
    "Category comp = new Category(\"Electronic\");\n",
    "comp.Add(new Product(\"Phone\", 1000, 4));\n",
    "comp.Add(new Product(\"Tv\", 3000, 8));\n",
    "root.Add(comp);\n",
    "root.Add(new Product(\"Chair\", 50, 4));\n",
    "\n",
    "Product leaf = new Product(\"Car\", 20000, 1);\n",
    "root.Add(leaf);\n",
    "root.Remove(leaf);\n",
    "\n",
    "Console.WriteLine(\"\\n\");\n",
    "root.Display(1);"
   ]
  }
 ],
 "metadata": {
  "language_info": {
   "name": "python"
  }
 },
 "nbformat": 4,
 "nbformat_minor": 2
}
