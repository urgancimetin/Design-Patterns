{
 "cells": [
  {
   "cell_type": "code",
   "execution_count": 11,
   "metadata": {
    "dotnet_interactive": {
     "language": "csharp"
    },
    "polyglot_notebook": {
     "kernelName": "csharp"
    },
    "vscode": {
     "languageId": "polyglot-notebook"
    }
   },
   "outputs": [
    {
     "name": "stdout",
     "output_type": "stream",
     "text": [
      "Proxy of video1 is being creating.\n",
      "Video is not loaded.\n",
      "video1 is being creating.\n",
      "Video is loaded.\n"
     ]
    }
   ],
   "source": [
    "using System;\n",
    "\n",
    "public interface IMediaFile\n",
    "{\n",
    "    string LoadVideo();\n",
    "}\n",
    "\n",
    "public class MediaFile : IMediaFile\n",
    "{\n",
    "    private string _video;\n",
    "    public string VideoName {get; set;}\n",
    "    public string Video{\n",
    "        get{\n",
    "            return _video;\n",
    "        }\n",
    "        set{\n",
    "            _video = value;\n",
    "        }\n",
    "    }\n",
    "\n",
    "    public MediaFile(string videoName)\n",
    "    {\n",
    "        Console.WriteLine($\"{videoName} is being creating.\");\n",
    "        VideoName = videoName;\n",
    "        Video = LoadVideo();\n",
    "    }\n",
    "\n",
    "    public string LoadVideo()\n",
    "    {\n",
    "        Console.WriteLine(\"Video is loaded.\");\n",
    "        return \"video\";\n",
    "    }\n",
    "}\n",
    "\n",
    "public class ProxyMediaFile : IMediaFile\n",
    "{\n",
    "    private string _video;\n",
    "    public MediaFile mediaFile;\n",
    "    public string VideoName {get; set;}\n",
    "    public string Video\n",
    "    {\n",
    "        get{\n",
    "            if(mediaFile == null)\n",
    "            {\n",
    "                mediaFile = new MediaFile(VideoName);\n",
    "            }\n",
    "            return mediaFile.Video;\n",
    "        }\n",
    "        set{\n",
    "            _video = value;\n",
    "        }\n",
    "    }\n",
    "\n",
    "    public ProxyMediaFile(string videoName)\n",
    "    {   \n",
    "        Console.WriteLine($\"Proxy of {videoName} is being creating.\");\n",
    "        VideoName = videoName;\n",
    "        Video = LoadVideo();\n",
    "    }\n",
    "\n",
    "    public string LoadVideo()\n",
    "    {\n",
    "        Console.WriteLine(\"Video is not loaded.\");\n",
    "        return \"empty\";\n",
    "    }\n",
    "}\n",
    "\n",
    "ProxyMediaFile file = new ProxyMediaFile(\"video1\");\n",
    "string video = file.Video;\n"
   ]
  }
 ],
 "metadata": {
  "language_info": {
   "name": "python"
  }
 },
 "nbformat": 4,
 "nbformat_minor": 2
}
