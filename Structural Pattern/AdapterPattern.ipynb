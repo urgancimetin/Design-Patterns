{
 "cells": [
  {
   "cell_type": "code",
   "execution_count": 6,
   "metadata": {
    "dotnet_interactive": {
     "language": "csharp"
    },
    "polyglot_notebook": {
     "kernelName": "csharp"
    },
    "vscode": {
     "languageId": "polyglot-notebook"
    }
   },
   "outputs": [
    {
     "name": "stdout",
     "output_type": "stream",
     "text": [
      "Length is 100 kms\n",
      "Mass is 150 kgs\n",
      "Length is 160.9 kms\n",
      "Mass is 90 kgs\n"
     ]
    }
   ],
   "source": [
    "using System;\n",
    "\n",
    "interface IMetricSystem\n",
    "{\n",
    "    double getKilograms();\n",
    "    double getKilometers();\n",
    "}\n",
    "\n",
    "class PrintHelper{\n",
    "    public void printLength(IMetricSystem metric){\n",
    "        Console.WriteLine(\"Length is \" + metric.getKilometers()+\" kms\");\n",
    "    }\n",
    "\n",
    "    public void printMass(IMetricSystem metric){\n",
    "        Console.WriteLine(\"Mass is \" + metric.getKilograms()+\" kgs\");\n",
    "    }\n",
    "}\n",
    "\n",
    "class ImperialSystem\n",
    "{\n",
    "    private double miles;\n",
    "    private double pounds;\n",
    "\n",
    "    public ImperialSystem(double m, double p){\n",
    "        miles = m;\n",
    "        pounds = p;\n",
    "    }\n",
    "    public double getMiles(){\n",
    "        return miles;\n",
    "    }\n",
    "\n",
    "    public double getPounds(){\n",
    "        return pounds;\n",
    "    }\n",
    "}\n",
    "\n",
    "class MetricSystem : IMetricSystem\n",
    "{\n",
    "    private double kilometers;\n",
    "    private double kilograms;\n",
    "\n",
    "    public MetricSystem(double km,double kg){\n",
    "        kilograms = kg;\n",
    "        kilometers = km;\n",
    "    }\n",
    "\n",
    "    public double getKilograms(){\n",
    "        return kilograms;\n",
    "    }\n",
    "\n",
    "    public double getKilometers(){\n",
    "        return kilometers;\n",
    "    }\n",
    " }\n",
    "\n",
    "//Adapter Class for ImperialSystem\n",
    "class MetricSystemAdapter : IMetricSystem\n",
    "{\n",
    "    private ImperialSystem imperialSystem;\n",
    "\n",
    "    public MetricSystemAdapter(ImperialSystem impSys){\n",
    "        imperialSystem = impSys;\n",
    "    }\n",
    "\n",
    "    public double getKilometers(){\n",
    "        return imperialSystem.getMiles() * 1.609;\n",
    "    }\n",
    "\n",
    "    public double getKilograms(){\n",
    "        return imperialSystem.getPounds() * 0.45;\n",
    "    }\n",
    "\n",
    "}\n",
    "\n",
    "PrintHelper ph = new PrintHelper();\n",
    "MetricSystem values1 = new MetricSystem((double)100, (double)150);\n",
    "\n",
    "ph.printLength(values1);\n",
    "ph.printMass(values1);\n",
    "\n",
    "ImperialSystem values2 = new ImperialSystem(100.0, 200.0);\n",
    "//ph.printLength(values2);   ---> compilation error\n",
    "MetricSystemAdapter values2adapted = new MetricSystemAdapter(values2);\n",
    "ph.printLength(values2adapted);\n",
    "ph.printMass(values2adapted);"
   ]
  }
 ],
 "metadata": {
  "language_info": {
   "name": "python"
  }
 },
 "nbformat": 4,
 "nbformat_minor": 2
}
