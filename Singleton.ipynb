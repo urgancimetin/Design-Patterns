{
 "cells": [
  {
   "cell_type": "code",
   "execution_count": 5,
   "metadata": {
    "dotnet_interactive": {
     "language": "csharp"
    },
    "polyglot_notebook": {
     "kernelName": "csharp"
    },
    "vscode": {
     "languageId": "polyglot-notebook"
    }
   },
   "outputs": [
    {
     "name": "stdout",
     "output_type": "stream",
     "text": [
      "Class id: 1818585467\n",
      "---------------\n",
      "Class id: 1818585467\n",
      "Instance deleted\n",
      "Class id: 1021984533\n"
     ]
    }
   ],
   "source": [
    "using System;\n",
    "\n",
    "class Singleton{\n",
    "    private static Singleton instance;\n",
    "    private int classId;\n",
    "    private Singleton(){\n",
    "        classId = new Random().Next();\n",
    "    }\n",
    "    public static Singleton getInstance(){\n",
    "        if(instance == null){\n",
    "            instance = new Singleton();\n",
    "        }\n",
    "        return instance;\n",
    "    }\n",
    "    public void writeClassId(){\n",
    "        Console.WriteLine(\"Class id: \" + classId);\n",
    "    }\n",
    "    public static void deleteInstance(){\n",
    "        instance = null;\n",
    "        Console.WriteLine(\"Instance deleted\");\n",
    "    }\n",
    "}\n",
    "\n",
    "Singleton a = Singleton.getInstance();\n",
    "a.writeClassId();\n",
    "Console.WriteLine(\"---------------\");\n",
    "Singleton b = Singleton.getInstance();\n",
    "b.writeClassId();\n",
    "Singleton.deleteInstance();\n",
    "Singleton c = Singleton.getInstance();\n",
    "c.writeClassId();"
   ]
  }
 ],
 "metadata": {
  "language_info": {
   "name": "python"
  },
  "orig_nbformat": 4
 },
 "nbformat": 4,
 "nbformat_minor": 2
}
