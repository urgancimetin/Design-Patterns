{
 "cells": [
  {
   "cell_type": "code",
   "execution_count": 1,
   "metadata": {
    "dotnet_interactive": {
     "language": "csharp"
    },
    "polyglot_notebook": {
     "kernelName": "csharp"
    },
    "vscode": {
     "languageId": "polyglot-notebook"
    }
   },
   "outputs": [
    {
     "name": "stdout",
     "output_type": "stream",
     "text": [
      "Submission#2+Phone is created\n",
      "\n",
      "Submission#2+Tablet is created\n"
     ]
    }
   ],
   "source": [
    "using System;\n",
    "\n",
    "abstract class DeviceFactory\n",
    "{\n",
    "    public abstract IDevice FactoryMethod();\n",
    "\n",
    "    public string Create()\n",
    "    {\n",
    "        var device = FactoryMethod();\n",
    "\n",
    "        var result = device.GetType() + \" is created\";\n",
    "        return result;\n",
    "    }\n",
    "}\n",
    "\n",
    "class PhoneCreator : DeviceFactory\n",
    "{\n",
    "    public override IDevice FactoryMethod()\n",
    "    {\n",
    "        return new Phone();\n",
    "    }\n",
    "}\n",
    "\n",
    "class TabletCreator : DeviceFactory\n",
    "{\n",
    "    public override IDevice FactoryMethod()\n",
    "    {\n",
    "        return new Tablet();\n",
    "    }\n",
    "}\n",
    "\n",
    "public interface IDevice\n",
    "{\n",
    "    string GetDeviceType();\n",
    "}\n",
    "\n",
    "class Phone : IDevice\n",
    "{\n",
    "    public string GetDeviceType()\n",
    "    {\n",
    "        return \"Phone\";\n",
    "    }\n",
    "}\n",
    "\n",
    "class Tablet : IDevice\n",
    "{\n",
    "    public string GetDeviceType()\n",
    "    {\n",
    "        return \"Tablet\";\n",
    "    }\n",
    "}\n",
    "\n",
    "ClientCode(new PhoneCreator());\n",
    "\n",
    "Console.WriteLine(\"\");\n",
    "\n",
    "ClientCode(new TabletCreator());\n",
    "\n",
    "void ClientCode(DeviceFactory creator)\n",
    "{\n",
    "    Console.WriteLine(creator.Create());\n",
    "}"
   ]
  }
 ],
 "metadata": {
  "language_info": {
   "name": "python"
  },
  "orig_nbformat": 4
 },
 "nbformat": 4,
 "nbformat_minor": 2
}
