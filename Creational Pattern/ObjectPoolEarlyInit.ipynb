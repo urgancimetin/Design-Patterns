{
 "cells": [
  {
   "cell_type": "code",
   "execution_count": 2,
   "metadata": {
    "dotnet_interactive": {
     "language": "csharp"
    },
    "polyglot_notebook": {
     "kernelName": "csharp"
    },
    "vscode": {
     "languageId": "polyglot-notebook"
    }
   },
   "outputs": [
    {
     "name": "stdout",
     "output_type": "stream",
     "text": [
      "Count at the beginning: 5\n",
      "--------------\n",
      "First object has been assigned\n",
      "Object count of pool: 4\n",
      "Object has been released back to pool\n",
      "Object count of pool: 5\n",
      "--------------\n",
      "Two objects have been assigned\n",
      "Object count of pool: 3\n",
      "Object have been released back to pool\n",
      "Object count of pool: 4\n",
      "Object have been released back to pool\n",
      "Object count of pool: 5\n"
     ]
    }
   ],
   "source": [
    "using System;\n",
    "\n",
    "public class ObjectPool<T> where T : new()\n",
    "{\n",
    "  private List<T> objectsList = new List<T>();\n",
    "  private int counter = 0;\n",
    "  private int maxObjects = 5;\n",
    "\n",
    "  public ObjectPool(){\n",
    "    for(int i=0; i<maxObjects; i++){\n",
    "      T obj = new T();\n",
    "      objectsList.Add(obj);\n",
    "      counter++;\n",
    "    }\n",
    "  }\n",
    "\n",
    "  public int getCount()\n",
    "  {\n",
    "    return counter;\n",
    "  }\n",
    "\n",
    "  public T getObject()\n",
    "  {\n",
    "    T objectItem;\n",
    "    if (counter > 0)\n",
    "    {\n",
    "      objectItem = objectsList[0] ;\n",
    "      objectsList.RemoveAt(0) ;\n",
    "      counter--;\n",
    "      return objectItem;\n",
    "    }\n",
    "    else\n",
    "    {\n",
    "      T obj = new T();\n",
    "      return obj;\n",
    "    }\n",
    "  }\n",
    "\n",
    "  public void releaseObject(T item)\n",
    "  {\n",
    "    if(counter < maxObjects)\n",
    "    {\n",
    "      objectsList.Add(item);\n",
    "      counter++;\n",
    "    }           \n",
    "  }\n",
    "}\n",
    "\n",
    "class User\n",
    "{\n",
    "  private string username;\n",
    "\n",
    "  public string getName()\n",
    "  {\n",
    "    return username ;\n",
    "  }\n",
    "\n",
    "  public void setName(string name)\n",
    "  {\n",
    "    username = name ;\n",
    "  }\n",
    "}\n",
    "\n",
    "ObjectPool<User> objPool = new ObjectPool<User>();\n",
    "Console.WriteLine(\"Count at the beginning: \" + objPool.getCount());\n",
    "Console.WriteLine(\"--------------\");\n",
    "User obj = objPool.getObject();\n",
    "Console.WriteLine(\"First object has been assigned\");\n",
    "Console.WriteLine(\"Object count of pool: \" + objPool.getCount());\n",
    "objPool.releaseObject(obj);\n",
    "Console.WriteLine(\"Object has been released back to pool\");\n",
    "Console.WriteLine(\"Object count of pool: \" + objPool.getCount());\n",
    "Console.WriteLine(\"--------------\");\n",
    "\n",
    "User obj2 = objPool.getObject();\n",
    "User obj3 = objPool.getObject() ;\n",
    "Console.WriteLine(\"Two objects have been assigned\");\n",
    "Console.WriteLine(\"Object count of pool: \" + objPool.getCount());\n",
    "objPool.releaseObject(obj2);\n",
    "Console.WriteLine(\"Object have been released back to pool\");\n",
    "Console.WriteLine(\"Object count of pool: \" + objPool.getCount());\n",
    "objPool.releaseObject(obj3);\n",
    "Console.WriteLine(\"Object have been released back to pool\");\n",
    "Console.WriteLine(\"Object count of pool: \" + objPool.getCount() );"
   ]
  }
 ],
 "metadata": {
  "language_info": {
   "name": "python"
  }
 },
 "nbformat": 4,
 "nbformat_minor": 2
}
